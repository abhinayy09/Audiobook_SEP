{
  "cells": [
    {
      "cell_type": "code",
      "execution_count": 1,
      "metadata": {
        "colab": {
          "base_uri": "https://localhost:8080/"
        },
        "id": "TL8F1D7d2voz",
        "outputId": "ca254a50-85ca-4b0c-9ef8-b5b156376b0f"
      },
      "outputs": [
        {
          "output_type": "stream",
          "name": "stdout",
          "text": [
            "Requirement already satisfied: PyPDF2 in /usr/local/lib/python3.7/dist-packages (1.26.0)\n",
            "Requirement already satisfied: pyttsx3 in /usr/local/lib/python3.7/dist-packages (2.90)\n"
          ]
        }
      ],
      "source": [
        "!pip install PyPDF2\n",
        "!pip install pyttsx3"
      ]
    },
    {
      "cell_type": "code",
      "execution_count": 2,
      "metadata": {
        "id": "BJ6NsrK123fq"
      },
      "outputs": [],
      "source": [
        "import PyPDF2\n",
        "pdfReader = PyPDF2.PdfFileReader(open('Lorem Ipsum.pdf', 'rb'))"
      ]
    },
    {
      "cell_type": "code",
      "execution_count": null,
      "metadata": {
        "colab": {
          "background_save": true
        },
        "id": "uuPrXMA5254W"
      },
      "outputs": [],
      "source": [
        "import pyttsx3\n",
        "speaker = pyttsx3.init()"
      ]
    },
    {
      "cell_type": "code",
      "execution_count": null,
      "metadata": {
        "colab": {
          "background_save": true
        },
        "id": "tXeTJGrl28C1"
      },
      "outputs": [],
      "source": [
        "for page_num in range(pdfReader.numPages):\n",
        "    text =  pdfReader.getPage(page_num).extractText()\n",
        "    speaker.say(text)\n",
        "    speaker.runAndWait()\n",
        "speaker.stop()"
      ]
    },
    {
      "cell_type": "code",
      "execution_count": null,
      "metadata": {
        "colab": {
          "background_save": true
        },
        "id": "PxenqXgJ2-G3"
      },
      "outputs": [],
      "source": [
        "engine.save_to_file(text, 'audio.mp3')\n",
        "engine.runAndWait()"
      ]
    }
  ],
  "metadata": {
    "colab": {
      "name": "audiobook.ipynb",
      "provenance": []
    },
    "kernelspec": {
      "display_name": "Python 3",
      "name": "python3"
    },
    "language_info": {
      "name": "python"
    }
  },
  "nbformat": 4,
  "nbformat_minor": 0
}